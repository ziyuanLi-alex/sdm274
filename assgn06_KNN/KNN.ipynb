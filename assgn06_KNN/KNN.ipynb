{
 "cells": [
  {
   "cell_type": "markdown",
   "metadata": {},
   "source": [
    "# SDM 274\n",
    "\n",
    "Author: Ziyuan Li, 12211225\n",
    "\n",
    "Using a k-NN to predict diagnosis on the Wisconsin Cancer dataset.\n"
   ]
  },
  {
   "cell_type": "markdown",
   "metadata": {},
   "source": [
    "# 1. Preparing the data"
   ]
  },
  {
   "cell_type": "code",
   "execution_count": 1,
   "metadata": {},
   "outputs": [
    {
     "name": "stdout",
     "output_type": "stream",
     "text": [
      "X shape: (569, 30)\n",
      "Y shape (569, 1)\n",
      "The first Diagnosis is:  ['M']\n",
      "The first 5 features are:  [1.799e+01 1.038e+01 1.228e+02 1.001e+03 1.184e-01]\n"
     ]
    }
   ],
   "source": [
    "import pandas as pd\n",
    "import numpy as np\n",
    "from sklearn.model_selection import train_test_split\n",
    "from scipy.spatial import KDTree\n",
    "from sklearn.metrics import confusion_matrix\n",
    "import seaborn as sns\n",
    "import matplotlib.pyplot as plt\n",
    "\n",
    "\n",
    "# Load the data\n",
    "data = pd.read_csv('wdbc.data', header=None)\n",
    "\n",
    "# Split the data into features and labels\n",
    "X = data.iloc[:, 2:].values\n",
    "Y = data.iloc[:, 1].values\n",
    "Y = Y.reshape(-1,1)\n",
    "\n",
    "print('X shape:', X.shape)\n",
    "print('Y shape', Y.shape)\n",
    "\n",
    "print(\"The first Diagnosis is: \", Y[0])\n",
    "print(\"The first 5 features are: \", X[0][:5])"
   ]
  },
  {
   "cell_type": "markdown",
   "metadata": {},
   "source": [
    "As we can see from the example data, the values of the dataset varies in magnitude pretty much. As we will shown below, k-NN algorithm is capable of solving classification problem like this, with varying magnitude and high dimension. However we do not discuss the boundary of k-NN here by challenging it with extremely disperse data."
   ]
  },
  {
   "cell_type": "code",
   "execution_count": 2,
   "metadata": {},
   "outputs": [],
   "source": [
    "X_train, X_test, y_train, y_test = train_test_split(X, Y, test_size=0.3, random_state=42)"
   ]
  },
  {
   "cell_type": "markdown",
   "metadata": {},
   "source": [
    "Here we split the dataset into a training dataset and a test dataset, by 0.7 and 0.3.\n",
    "\n",
    "We specify the random state to make the result reproducible."
   ]
  },
  {
   "cell_type": "markdown",
   "metadata": {},
   "source": [
    "# 2. Defining the class\n"
   ]
  },
  {
   "cell_type": "code",
   "execution_count": 3,
   "metadata": {},
   "outputs": [],
   "source": [
    "class KNN:\n",
    "    def __init__(self, k=3):\n",
    "        self.k = k\n",
    "        self.kdtree = None\n",
    "\n",
    "    def fit(self, X, y):\n",
    "        self.X_train = X\n",
    "        self.y_train = y\n",
    "        self.kdtree = KDTree(X)\n",
    "\n",
    "    def _predict(self, x):\n",
    "        \"\"\"Predicting label from single sample\"\"\"\n",
    "\n",
    "        dist, idx = self.kdtree.query(x, k=self.k, p=2)\n",
    "        if idx.ndim == 0 or idx.ndim == 1:\n",
    "            idx = idx.reshape(1, -1)\n",
    "        neighbors_labels = [self.y_train[i].item() for i in idx[0]]\n",
    "\n",
    "        prediction = max(set(neighbors_labels), key=neighbors_labels.count)\n",
    "        return prediction\n",
    "    \n",
    "    def predict(self, X):\n",
    "        \"\"\"Predicting labels from multiple samples\"\"\"\n",
    "        y_pred = [self._predict(x) for x in X]\n",
    "        return y_pred\n",
    "\n",
    "\n",
    "    "
   ]
  },
  {
   "cell_type": "markdown",
   "metadata": {},
   "source": [
    "The core of the KNN class is finding nearest points, and using a KD tree structure to optimize the finding process.\n",
    "\n",
    "Mathematically, what it does is splits the dataset by the median on a dimension, and does it recursively for every dimension. Spatially it divides the whole space in two splits on every dimension, thus simplifying the search process.\n",
    "\n"
   ]
  },
  {
   "cell_type": "markdown",
   "metadata": {},
   "source": [
    "# 3. Do the training\n"
   ]
  },
  {
   "cell_type": "code",
   "execution_count": 4,
   "metadata": {},
   "outputs": [],
   "source": [
    "knn = KNN(k=3)\n",
    "knn.fit(X_train, y_train)"
   ]
  },
  {
   "cell_type": "code",
   "execution_count": 5,
   "metadata": {},
   "outputs": [],
   "source": [
    "\n",
    "y_pred = knn.predict(X_test)\n",
    "# print(\"Result:\" , y_pred)\n",
    "def calculate_accuracy(y_actual, y_pred):\n",
    "\n",
    "    correct_predictions = 0\n",
    "    total_predictions = len(y_actual) # total number of predictions, actually a cache\n",
    "\n",
    "    for i in range(total_predictions):\n",
    "        if y_actual[i] == y_pred[i]:\n",
    "            correct_predictions += 1\n",
    "\n",
    "    return correct_predictions / total_predictions\n",
    "\n",
    "def calculate_recall(y_actual, y_pred, positive_label='M'):\n",
    "    true_positive = 0\n",
    "    false_negative = 0\n",
    "\n",
    "    for i in range(len(y_actual)):\n",
    "        if y_actual[i] == positive_label:\n",
    "            if y_pred[i] == positive_label:\n",
    "                true_positive += 1\n",
    "            else:\n",
    "                false_negative += 1\n",
    "\n",
    "    recall = true_positive / (true_positive + false_negative)\n",
    "    return recall\n",
    "\n",
    "def calculate_precision(y_actual, y_pred, positive_label='M'):\n",
    "    true_positive = 0\n",
    "    false_positive = 0\n",
    "\n",
    "    for i in range(len(y_actual)):\n",
    "        if y_pred[i] == positive_label:\n",
    "            if y_actual[i] == positive_label:\n",
    "                true_positive += 1\n",
    "            else:\n",
    "                false_positive += 1\n",
    "\n",
    "    precision = true_positive / (true_positive + false_positive)\n",
    "    return precision\n",
    "\n",
    "def calculate_f1_score(y_actual, y_pred, positive_label='M'):\n",
    "    precision = calculate_precision(y_actual, y_pred, positive_label)\n",
    "    recall = calculate_recall(y_actual, y_pred, positive_label)\n",
    "\n",
    "    f1_score = 2 * precision * recall / (precision + recall)\n",
    "    return f1_score\n",
    "\n",
    "\n",
    "accuracy = calculate_accuracy(y_test, y_pred)\n",
    "recall = calculate_recall(y_test, y_pred, 'M')\n",
    "precision = calculate_precision(y_test, y_pred, 'M')\n",
    "f1_score = calculate_f1_score(y_test, y_pred, 'M')\n",
    "\n"
   ]
  },
  {
   "cell_type": "markdown",
   "metadata": {},
   "source": [
    "This task is also a binary classification task that we can use the four metrics used in former assignments to evaluate the performance of the model."
   ]
  },
  {
   "cell_type": "code",
   "execution_count": 6,
   "metadata": {},
   "outputs": [
    {
     "name": "stdout",
     "output_type": "stream",
     "text": [
      "Accuracy: 0.9415204678362573\n",
      "Recall: 0.9047619047619048\n",
      "Precision: 0.9344262295081968\n",
      "F1 Score: 0.9193548387096775\n"
     ]
    }
   ],
   "source": [
    "\n",
    "print(f'Accuracy: {accuracy}')\n",
    "print(f'Recall: {recall}')\n",
    "print(f'Precision: {precision}')\n",
    "print(f'F1 Score: {f1_score}')"
   ]
  },
  {
   "cell_type": "code",
   "execution_count": 7,
   "metadata": {},
   "outputs": [
    {
     "data": {
      "image/png": "[encoded data removed]",
      "text/plain": [
       "<Figure size 640x480 with 2 Axes>"
      ]
     },
     "metadata": {},
     "output_type": "display_data"
    }
   ],
   "source": [
    "cm = confusion_matrix(y_test, y_pred)\n",
    "\n",
    "sns.heatmap(cm, annot=True, fmt=\"d\", cmap=\"Blues\", xticklabels=[\"Negative\", \"Positive\"], yticklabels=[\"Negative\", \"Positive\"])\n",
    "plt.xlabel(\"Predicted\")\n",
    "plt.ylabel(\"True\")\n",
    "plt.title(\"Confusion Matrix of k=3\")\n",
    "plt.show()\n"
   ]
  },
  {
   "cell_type": "markdown",
   "metadata": {},
   "source": [
    "Here we use a confusion matrix to visualize the data, which can be more accurate compared with plotting the predicted points and the true points together.\n",
    "\n",
    "Because there is not a \"threshold\" here - we decide by majority voting instead of a probability, therefore ROC curve do not directly apply here. \n",
    "ALthough we can actually consider the ratio of points as a form of probability, it can bring wrong estimations when k is small according to the law of large numbers."
   ]
  },
  {
   "cell_type": "markdown",
   "metadata": {},
   "source": [
    "# 4. Discussing different values of k in k-NN\n",
    "\n",
    "Here we choose a list of different k values to investigate the effect of this hyperparam on the classification.\n",
    "As specified by the professor we use k's from 1 to 10.\n",
    "\n",
    "The training is very simple when compared with gradient-descent based approaches. Actually the fitting process is only taking a KD tree of all training data, instead of gradually minimizing a \"test error\". In other words, there is only one hyperparam in the whole model, that is, the k value. Therefore we can conveniently change the k value to evaluate its impact of the algorithm. "
   ]
  },
  {
   "cell_type": "code",
   "execution_count": 8,
   "metadata": {},
   "outputs": [],
   "source": [
    "k_list = np.arange(1,11)\n",
    "KNN_eval = KNN(k=1)\n",
    "KNN_eval.fit(X_train, y_train)\n",
    "\n",
    "prediction_array = []\n",
    "metrics_array = []\n",
    "\n",
    "for k in k_list:\n",
    "    KNN_eval.k = k\n",
    "    prediction = KNN_eval.predict(X_test)\n",
    "    prediction_array.append(prediction)\n",
    "    metrics_array.append([calculate_accuracy(y_test, prediction), calculate_recall(y_test, prediction, 'M'), calculate_precision(y_test, prediction, 'M'), calculate_f1_score(y_test, prediction, 'M')])\n"
   ]
  },
  {
   "cell_type": "markdown",
   "metadata": {},
   "source": [
    "We create a model and let it predict the results for differen k values ranging from 1 to 10."
   ]
  },
  {
   "cell_type": "code",
   "execution_count": 9,
   "metadata": {},
   "outputs": [
    {
     "name": "stdout",
     "output_type": "stream",
     "text": [
      "    Accuracy    Recall  Precision  F1 Score\n",
      "1   0.935673  0.888889   0.933333  0.910569\n",
      "2   0.941520  0.857143   0.981818  0.915254\n",
      "3   0.941520  0.904762   0.934426  0.919355\n",
      "4   0.953216  0.873016   1.000000  0.932203\n",
      "5   0.959064  0.904762   0.982759  0.942149\n",
      "6   0.953216  0.888889   0.982456  0.933333\n",
      "7   0.964912  0.936508   0.967213  0.951613\n",
      "8   0.964912  0.920635   0.983051  0.950820\n",
      "9   0.970760  0.936508   0.983333  0.959350\n",
      "10  0.959064  0.904762   0.982759  0.942149\n"
     ]
    }
   ],
   "source": [
    "# Create a DataFrame to hold the metrics\n",
    "metrics_df = pd.DataFrame(metrics_array, columns=['Accuracy', 'Recall', 'Precision', 'F1 Score'], index=k_list)\n",
    "\n",
    "# Display the DataFrame\n",
    "print(metrics_df)"
   ]
  },
  {
   "cell_type": "markdown",
   "metadata": {},
   "source": [
    "We calculate the four metrics for every k value."
   ]
  },
  {
   "cell_type": "code",
   "execution_count": 10,
   "metadata": {},
   "outputs": [
    {
     "data": {
      "image/png": "[encoded data removed]",
      "text/plain": [
       "<Figure size 1000x600 with 1 Axes>"
      ]
     },
     "metadata": {},
     "output_type": "display_data"
    }
   ],
   "source": [
    "metrics_df['F1 Score'].plot(kind='bar', figsize=(10, 6), color='skyblue')\n",
    "plt.xlabel('k')\n",
    "plt.ylabel('F1 Score')\n",
    "plt.title('F1 Score for different values of k')\n",
    "plt.ylim([0.8, 1])\n",
    "plt.xticks(rotation=0)\n",
    "plt.show()"
   ]
  },
  {
   "cell_type": "code",
   "execution_count": 11,
   "metadata": {},
   "outputs": [
    {
     "data": {
      "image/png": "[encoded data removed]",
      "text/plain": [
       "<Figure size 1000x600 with 1 Axes>"
      ]
     },
     "metadata": {},
     "output_type": "display_data"
    }
   ],
   "source": [
    "metrics_df['Recall'].plot(kind='bar', figsize=(10, 6), color='skyblue')\n",
    "plt.xlabel('k')\n",
    "plt.ylabel('Recall')\n",
    "plt.title('Recall for different values of k')\n",
    "plt.ylim([0.8, 1])\n",
    "plt.xticks(rotation=0)\n",
    "plt.show()\n"
   ]
  },
  {
   "cell_type": "code",
   "execution_count": null,
   "metadata": {},
   "outputs": [
    {
     "name": "stdout",
     "output_type": "stream",
     "text": [
      "Accuracy     0.970760\n",
      "Recall       0.936508\n",
      "Precision    0.983333\n",
      "F1 Score     0.959350\n",
      "Name: 9, dtype: float64\n",
      "\n",
      "Accuracy     0.964912\n",
      "Recall       0.936508\n",
      "Precision    0.967213\n",
      "F1 Score     0.951613\n",
      "Name: 7, dtype: float64\n"
     ]
    }
   ],
   "source": [
    "max_f1_score_row = metrics_df.loc[metrics_df['F1 Score'].idxmax()]\n",
    "print(max_f1_score_row)\n",
    "print()\n",
    "max_recall_row = metrics_df.loc[metrics_df['Recall'].idxmax()]\n",
    "print(max_recall_row)"
   ]
  },
  {
   "cell_type": "markdown",
   "metadata": {},
   "source": [
    "\n",
    "Above graphs and tables visualize the influence of different k values.\n",
    "\n",
    "The F1 score generally increases with the increase of k value, and peaks at about k = 9. \n",
    "\n",
    "However, when considering diagnosis of a cancer, we  will often consider the value of recall over precision because the negative impact of a false negative is much higher than a false positive. In this case, hyperparameter k = 7 produced the highest recall.\n",
    "\n",
    "Generally this can be explained by using more nearby points lowers the possibility of outliers interfering the result. In other words, higher k means a beneficially wider scope when doing the classification. However using too high k value could also bring down the performance, as an example see the decrease of the f1 score in k = 10. Or theoretically when we take k ~= infty the classification will become meaningless. "
   ]
  }
 ],
 "metadata": {
  "kernelspec": {
   "display_name": "torch",
   "language": "python",
   "name": "python3"
  },
  "language_info": {
   "codemirror_mode": {
    "name": "ipython",
    "version": 3
   },
   "file_extension": ".py",
   "mimetype": "text/x-python",
   "name": "python",
   "nbconvert_exporter": "python",
   "pygments_lexer": "ipython3",
   "version": "3.9.20"
  }
 },
 "nbformat": 4,
 "nbformat_minor": 2
}
