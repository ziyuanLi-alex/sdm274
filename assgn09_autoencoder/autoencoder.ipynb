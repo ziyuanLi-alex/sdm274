{
 "cells": [
  {
   "cell_type": "markdown",
   "metadata": {},
   "source": [
    "# PCA and Autoencoders\n",
    "\n",
    "Author: Ziyuan Li, 12211225\n",
    "\n",
    "This assignment focuses on utilizing the PCA to reduce the dimensionality of data, and discussing the use of autoencoders.\n"
   ]
  },
  {
   "cell_type": "markdown",
   "metadata": {},
   "source": [
    "# Data Preprocessing\n",
    "\n",
    "We use the same data preprocessing code from before that reads from the wine dataset.\n",
    "\n"
   ]
  },
  {
   "cell_type": "code",
   "execution_count": 1,
   "metadata": {},
   "outputs": [
    {
     "data": {
      "text/html": [
       "<div>\n",
       "<style scoped>\n",
       "    .dataframe tbody tr th:only-of-type {\n",
       "        vertical-align: middle;\n",
       "    }\n",
       "\n",
       "    .dataframe tbody tr th {\n",
       "        vertical-align: top;\n",
       "    }\n",
       "\n",
       "    .dataframe thead th {\n",
       "        text-align: right;\n",
       "    }\n",
       "</style>\n",
       "<table border=\"1\" class=\"dataframe\">\n",
       "  <thead>\n",
       "    <tr style=\"text-align: right;\">\n",
       "      <th></th>\n",
       "      <th>Type</th>\n",
       "      <th>Alcohol</th>\n",
       "      <th>Malic acid</th>\n",
       "      <th>Ash</th>\n",
       "      <th>Alcalinity of ash</th>\n",
       "      <th>Magnesium</th>\n",
       "      <th>Total phenols</th>\n",
       "      <th>Flavanoids</th>\n",
       "      <th>Nonflavanoid phenols</th>\n",
       "      <th>Proanthocyanins</th>\n",
       "      <th>Color intensity</th>\n",
       "      <th>Hue</th>\n",
       "      <th>OD280/OD315 of diluted wines</th>\n",
       "      <th>Proline</th>\n",
       "    </tr>\n",
       "  </thead>\n",
       "  <tbody>\n",
       "    <tr>\n",
       "      <th>0</th>\n",
       "      <td>1</td>\n",
       "      <td>14.23</td>\n",
       "      <td>1.71</td>\n",
       "      <td>2.43</td>\n",
       "      <td>15.6</td>\n",
       "      <td>127</td>\n",
       "      <td>2.80</td>\n",
       "      <td>3.06</td>\n",
       "      <td>0.28</td>\n",
       "      <td>2.29</td>\n",
       "      <td>5.64</td>\n",
       "      <td>1.04</td>\n",
       "      <td>3.92</td>\n",
       "      <td>1065</td>\n",
       "    </tr>\n",
       "    <tr>\n",
       "      <th>1</th>\n",
       "      <td>1</td>\n",
       "      <td>13.20</td>\n",
       "      <td>1.78</td>\n",
       "      <td>2.14</td>\n",
       "      <td>11.2</td>\n",
       "      <td>100</td>\n",
       "      <td>2.65</td>\n",
       "      <td>2.76</td>\n",
       "      <td>0.26</td>\n",
       "      <td>1.28</td>\n",
       "      <td>4.38</td>\n",
       "      <td>1.05</td>\n",
       "      <td>3.40</td>\n",
       "      <td>1050</td>\n",
       "    </tr>\n",
       "    <tr>\n",
       "      <th>2</th>\n",
       "      <td>1</td>\n",
       "      <td>13.16</td>\n",
       "      <td>2.36</td>\n",
       "      <td>2.67</td>\n",
       "      <td>18.6</td>\n",
       "      <td>101</td>\n",
       "      <td>2.80</td>\n",
       "      <td>3.24</td>\n",
       "      <td>0.30</td>\n",
       "      <td>2.81</td>\n",
       "      <td>5.68</td>\n",
       "      <td>1.03</td>\n",
       "      <td>3.17</td>\n",
       "      <td>1185</td>\n",
       "    </tr>\n",
       "    <tr>\n",
       "      <th>3</th>\n",
       "      <td>1</td>\n",
       "      <td>14.37</td>\n",
       "      <td>1.95</td>\n",
       "      <td>2.50</td>\n",
       "      <td>16.8</td>\n",
       "      <td>113</td>\n",
       "      <td>3.85</td>\n",
       "      <td>3.49</td>\n",
       "      <td>0.24</td>\n",
       "      <td>2.18</td>\n",
       "      <td>7.80</td>\n",
       "      <td>0.86</td>\n",
       "      <td>3.45</td>\n",
       "      <td>1480</td>\n",
       "    </tr>\n",
       "    <tr>\n",
       "      <th>4</th>\n",
       "      <td>1</td>\n",
       "      <td>13.24</td>\n",
       "      <td>2.59</td>\n",
       "      <td>2.87</td>\n",
       "      <td>21.0</td>\n",
       "      <td>118</td>\n",
       "      <td>2.80</td>\n",
       "      <td>2.69</td>\n",
       "      <td>0.39</td>\n",
       "      <td>1.82</td>\n",
       "      <td>4.32</td>\n",
       "      <td>1.04</td>\n",
       "      <td>2.93</td>\n",
       "      <td>735</td>\n",
       "    </tr>\n",
       "  </tbody>\n",
       "</table>\n",
       "</div>"
      ],
      "text/plain": [
       "   Type  Alcohol  Malic acid   Ash  Alcalinity of ash  Magnesium  \\\n",
       "0     1    14.23        1.71  2.43               15.6        127   \n",
       "1     1    13.20        1.78  2.14               11.2        100   \n",
       "2     1    13.16        2.36  2.67               18.6        101   \n",
       "3     1    14.37        1.95  2.50               16.8        113   \n",
       "4     1    13.24        2.59  2.87               21.0        118   \n",
       "\n",
       "   Total phenols  Flavanoids  Nonflavanoid phenols  Proanthocyanins  \\\n",
       "0           2.80        3.06                  0.28             2.29   \n",
       "1           2.65        2.76                  0.26             1.28   \n",
       "2           2.80        3.24                  0.30             2.81   \n",
       "3           3.85        3.49                  0.24             2.18   \n",
       "4           2.80        2.69                  0.39             1.82   \n",
       "\n",
       "   Color intensity   Hue  OD280/OD315 of diluted wines  Proline  \n",
       "0             5.64  1.04                          3.92     1065  \n",
       "1             4.38  1.05                          3.40     1050  \n",
       "2             5.68  1.03                          3.17     1185  \n",
       "3             7.80  0.86                          3.45     1480  \n",
       "4             4.32  1.04                          2.93      735  "
      ]
     },
     "execution_count": 1,
     "metadata": {},
     "output_type": "execute_result"
    }
   ],
   "source": [
    "import pandas as pd\n",
    "import numpy as np\n",
    "from sklearn.model_selection import train_test_split\n",
    "from sklearn.preprocessing import StandardScaler\n",
    "import matplotlib.pyplot as plt\n",
    "\n",
    "\n",
    "df = pd.read_csv('./data/wine.csv', header=None)\n",
    "df.columns = ['Type', 'Alcohol', 'Malic acid', 'Ash', 'Alcalinity of ash',\\\n",
    "     'Magnesium', 'Total phenols', 'Flavanoids', 'Nonflavanoid phenols','Proanthocyanins', 'Color intensity', 'Hue', 'OD280/OD315 of diluted wines', 'Proline']\n",
    "\n",
    "\n",
    "# We do not discard the third class here\n",
    "y = df.iloc[:,0]\n",
    "X = df.iloc[:,1:]\n",
    "\n",
    "df.head()\n"
   ]
  },
  {
   "cell_type": "code",
   "execution_count": 2,
   "metadata": {},
   "outputs": [
    {
     "name": "stdout",
     "output_type": "stream",
     "text": [
      "[[ 0.98268636 -0.52764049  0.17359827 -1.08754344 -0.72766103  0.49145539\n",
      "   0.79145985 -0.59671707  0.35458658  0.25541917  0.85746167  0.43782507\n",
      "   1.86317967]\n",
      " [ 0.95793708 -0.74551086  1.25550363  0.83938558  0.06325176  1.13192275\n",
      "   1.30655304 -0.59671707  1.3432327   0.29758662  1.03209459  0.15956344\n",
      "   1.74910798]\n",
      " [ 0.40107814 -0.61289411  1.77780276 -1.23576875  0.65643635  0.49145539\n",
      "   0.707363   -0.17049059 -0.42592352 -0.16625539  0.59551231  0.26208088\n",
      "   0.42913559]\n",
      " [ 0.77231743 -0.59394886 -0.01293713 -0.16854652  0.39279876  0.90775917\n",
      "   1.24348041 -1.19343414  0.59741194  0.80359609  0.59551231  0.40853438\n",
      "   2.49872194]]\n"
     ]
    }
   ],
   "source": [
    "# \"Stratify\" is used to ensure that the training and test sets have approximately the same percentage of samples of each target class as the complete set.\n",
    "X_train, X_test, y_train, y_test = train_test_split(X, y, test_size=0.3, random_state=42, stratify=y)\n",
    "\n",
    "# Next we should standardize the data\n",
    "sc = StandardScaler()\n",
    "X_train_std = sc.fit_transform(X_train)\n",
    "X_test_std = sc.transform(X_test)\n",
    "\n",
    "print(X_train_std[:4])"
   ]
  },
  {
   "cell_type": "markdown",
   "metadata": {},
   "source": [
    "$C=\\frac{1}{N}\\sum_{n=1}^N(x^{(n)}-\\bar{x})(x^{(n)}-\\bar{x})^T=U\\Sigma U^T\\approx U_{1:M}\\Sigma_{1:M}U_{1:M}^T$\n",
    "\n",
    "We have already normalized the X matrix.\n",
    "Next we will calculate the covariance matrix using the method given by numpy, and decompose it into eigenvalues and eigenvectors, which are the \"principle components\" of our data.\n"
   ]
  },
  {
   "cell_type": "code",
   "execution_count": 3,
   "metadata": {},
   "outputs": [
    {
     "data": {
      "image/png": "[encoded data removed]",
      "text/plain": [
       "<Figure size 640x480 with 1 Axes>"
      ]
     },
     "metadata": {},
     "output_type": "display_data"
    }
   ],
   "source": [
    "cov_mat = np.cov(X_train_std.T)\n",
    "eigen_vals, eigen_vecs = np.linalg.eig(cov_mat)\n",
    "\n",
    "\n",
    "tot = sum(eigen_vals) # Total sum of eigenvalues\n",
    "var_exp = [(i / tot) for i in sorted(eigen_vals, reverse=True)] # Explained variance, accumulative. The highest explanations sit at front.\n",
    "cum_var_exp = np.cumsum(var_exp) # uses numpy to calculate the cumulative sum of explained variances\n",
    "\n",
    "plt.bar(range(1, 14), var_exp, alpha=0.5,\n",
    "        align='center', label='individual explained variance')\n",
    "plt.step(range(1, 14), cum_var_exp, where='mid',\n",
    "         label='cumulative explained variance')\n",
    "plt.ylabel('Explained variance ratio')\n",
    "plt.xlabel('Principal component index')\n",
    "plt.legend(loc='best')\n",
    "plt.show()"
   ]
  },
  {
   "cell_type": "markdown",
   "metadata": {},
   "source": [
    "- Eigenvalues represent the amount of variance captured by each principal component. They indicate how much information (variance) is contained along each new axis after the transformation. \n",
    "A larger eigenvalue indicates that the corresponding principal component captures more variance, meaning it explains more of the variability in the dataset.\n",
    "- Eigenvectors are the directions or axes in the transformed space. Each eigenvector corresponds to one principal component and points in the direction of maximum variance.\n"
   ]
  },
  {
   "cell_type": "code",
   "execution_count": 4,
   "metadata": {},
   "outputs": [
    {
     "name": "stdout",
     "output_type": "stream",
     "text": [
      "(2.517493700893585, array([-0.49414675, -0.1670862 , -0.33581955,  0.0230456 , -0.2816766 ,\n",
      "       -0.07164769, -0.00569565, -0.04855187, -0.00589032, -0.52633004,\n",
      "        0.28399523,  0.18136641, -0.3703045 ]))\n",
      "(1.4425112439605554, array([-0.13550025,  0.08484512,  0.61436922,  0.62199483,  0.08744449,\n",
      "        0.18025489,  0.1288233 ,  0.22290079,  0.16925303, -0.15886766,\n",
      "        0.14029634,  0.13133987, -0.11347494]))\n",
      "(0.9502568705615343, array([ 0.22002101, -0.34863385,  0.21029079, -0.11850515, -0.54616385,\n",
      "        0.01134185,  0.01728643,  0.43279572, -0.38816555,  0.05280192,\n",
      "        0.29582335,  0.05170014,  0.20518301]))\n",
      "(0.9138815593826501, array([ 0.1001375 ,  0.51191077, -0.10967198, -0.01880619, -0.60714326,\n",
      "        0.28882326,  0.23108185,  0.03104048,  0.17123031,  0.08025659,\n",
      "       -0.32935599,  0.21901727, -0.13011228]))\n",
      "Matrix W:\n",
      " [[ 0.15763477 -0.49414675]\n",
      " [-0.25237011 -0.1670862 ]\n",
      " [-0.01662626 -0.33581955]\n",
      " [-0.23514225  0.0230456 ]\n",
      " [ 0.14285062 -0.2816766 ]\n",
      " [ 0.38989121 -0.07164769]\n",
      " [ 0.42596901 -0.00569565]\n",
      " [-0.28675917 -0.04855187]\n",
      " [ 0.30864294 -0.00589032]\n",
      " [-0.08886736 -0.52633004]\n",
      " [ 0.30119689  0.28399523]\n",
      " [ 0.37783572  0.18136641]\n",
      " [ 0.28836287 -0.3703045 ]]\n"
     ]
    }
   ],
   "source": [
    "eigen_pairs = [(np.abs(eigen_vals[i]), eigen_vecs[:,i]) for i in range(len(eigen_vals))] # The eigenvectors are shaped in columns. There are 13 features, then there are 13 vectors.\n",
    "\n",
    "eigen_pairs.sort(key=lambda k: k[0], reverse=True) # Sort the eigenvalues in descending order\n",
    "\n",
    "for i in range(1,5):\n",
    "    print(eigen_pairs[i])\n",
    "\n",
    "w = np.hstack((eigen_pairs[0][1][:, np.newaxis], eigen_pairs[1][1][:, np.newaxis])) # Stack the two most informative eigenvectors into a 13x2 matrix, it is used to project the original high-dimensional data onto the 2D space spanned by the selected principal components.\n",
    "\n",
    "print('Matrix W:\\n', w)\n",
    "X_train_pca = X_train_std.dot(w)\n"
   ]
  },
  {
   "cell_type": "code",
   "execution_count": 5,
   "metadata": {},
   "outputs": [
    {
     "data": {
      "image/png": "[encoded data removed]",
      "text/plain": [
       "<Figure size 640x480 with 1 Axes>"
      ]
     },
     "metadata": {},
     "output_type": "display_data"
    }
   ],
   "source": [
    "colors = ['r', 'b', 'g']\n",
    "markers = ['s', 'x', 'o']\n",
    "\n",
    "for l, c, m in zip(np.unique(y_train), colors, markers):\n",
    "    plt.scatter(X_train_pca[y_train==l, 0], X_train_pca[y_train==l, 1], c=c, label=l, marker=m)\n",
    "plt.xlabel('PC 1')\n",
    "plt.ylabel('PC 2')\n",
    "plt.legend(loc='lower left')\n",
    "plt.show()"
   ]
  }
 ],
 "metadata": {
  "kernelspec": {
   "display_name": "torch",
   "language": "python",
   "name": "python3"
  },
  "language_info": {
   "codemirror_mode": {
    "name": "ipython",
    "version": 3
   },
   "file_extension": ".py",
   "mimetype": "text/x-python",
   "name": "python",
   "nbconvert_exporter": "python",
   "pygments_lexer": "ipython3",
   "version": "3.9.20"
  }
 },
 "nbformat": 4,
 "nbformat_minor": 2
}
