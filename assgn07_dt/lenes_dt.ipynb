{
 "cells": [
  {
   "cell_type": "markdown",
   "metadata": {},
   "source": [
    "该数据集中的每个样本包含患者的年龄、近视/远视、是否散光、流泪量4个特征，以及医生推荐他们佩戴的隐形眼镜类型（硬材质、软材质、不佩戴）。使用该数据集可以构造一棵决策树，帮助医生给患者推荐应佩戴眼镜的类型。\n",
    "\n",
    "![隐形眼镜数据集](../dataset/lenses/pic01.png)"
   ]
  },
  {
   "cell_type": "code",
   "execution_count": 1,
   "metadata": {},
   "outputs": [
    {
     "data": {
      "text/plain": [
       "<module 'decision_tree' from '/root/sdm274/assgn07_dt/decision_tree.py'>"
      ]
     },
     "execution_count": 1,
     "metadata": {},
     "output_type": "execute_result"
    }
   ],
   "source": [
    "import numpy as np\n",
    "import decision_tree as DT\n",
    "from decisiontreeplotter import DecisionTreePlotter\n",
    "\n",
    "import importlib\n",
    "import os\n",
    "\n",
    "importlib.reload(DT)"
   ]
  },
  {
   "cell_type": "code",
   "execution_count": 2,
   "metadata": {},
   "outputs": [
    {
     "data": {
      "text/plain": [
       "array([[ 1,  1,  1,  1,  1,  3],\n",
       "       [ 2,  1,  1,  1,  2,  2],\n",
       "       [ 3,  1,  1,  2,  1,  3],\n",
       "       [ 4,  1,  1,  2,  2,  1],\n",
       "       [ 5,  1,  2,  1,  1,  3],\n",
       "       [ 6,  1,  2,  1,  2,  2],\n",
       "       [ 7,  1,  2,  2,  1,  3],\n",
       "       [ 8,  1,  2,  2,  2,  1],\n",
       "       [ 9,  2,  1,  1,  1,  3],\n",
       "       [10,  2,  1,  1,  2,  2],\n",
       "       [11,  2,  1,  2,  1,  3],\n",
       "       [12,  2,  1,  2,  2,  1],\n",
       "       [13,  2,  2,  1,  1,  3],\n",
       "       [14,  2,  2,  1,  2,  2],\n",
       "       [15,  2,  2,  2,  1,  3],\n",
       "       [16,  2,  2,  2,  2,  3],\n",
       "       [17,  3,  1,  1,  1,  3],\n",
       "       [18,  3,  1,  1,  2,  3],\n",
       "       [19,  3,  1,  2,  1,  3],\n",
       "       [20,  3,  1,  2,  2,  1],\n",
       "       [21,  3,  2,  1,  1,  3],\n",
       "       [22,  3,  2,  1,  2,  2],\n",
       "       [23,  3,  2,  2,  1,  3],\n",
       "       [24,  3,  2,  2,  2,  3]])"
      ]
     },
     "execution_count": 2,
     "metadata": {},
     "output_type": "execute_result"
    }
   ],
   "source": [
    "# os.getcwd()\n",
    "data = np.loadtxt('./lenses/lenses.data', dtype=int)\n",
    "data"
   ]
  },
  {
   "cell_type": "code",
   "execution_count": 3,
   "metadata": {},
   "outputs": [
    {
     "name": "stdout",
     "output_type": "stream",
     "text": [
      "Internal node <3>:\n",
      "\t[1]-> Leaf node (3)\n",
      "\t[2]-> Internal node <2>:\n",
      "\t\t[1]-> Internal node <0>:\n",
      "\t\t\t[1]-> Leaf node (2)\n",
      "\t\t\t[2]-> Leaf node (2)\n",
      "\t\t\t[3]-> Internal node <1>:\n",
      "\t\t\t\t[1]-> Leaf node (3)\n",
      "\t\t\t\t[2]-> Leaf node (2)\n",
      "\t\t\t\n",
      "\t\t\n",
      "\t\t[2]-> Internal node <1>:\n",
      "\t\t\t[1]-> Leaf node (1)\n",
      "\t\t\t[2]-> Internal node <0>:\n",
      "\t\t\t\t[1]-> Leaf node (1)\n",
      "\t\t\t\t[2]-> Leaf node (3)\n",
      "\t\t\t\t[3]-> Leaf node (3)\n",
      "\t\t\t\n",
      "\t\t\n",
      "\t\n",
      "\n"
     ]
    }
   ],
   "source": [
    "X = data[:, 1:-1]\n",
    "y = data[:, -1]\n",
    "\n",
    "dt01 = DT.DecisionTree()\n",
    "dt01.train(X,y)\n",
    "\n",
    "print(dt01)"
   ]
  },
  {
   "cell_type": "code",
   "execution_count": 4,
   "metadata": {},
   "outputs": [],
   "source": [
    "features_dict = {\n",
    "    0: {'name': 'age', 'value_names': {1:'young', \n",
    "                                       2:'pre-presbyopic',\n",
    "                                       3:'presbyopic'}\n",
    "        },\n",
    "    1: {'name':'prescript', \n",
    "        'value_names': {1: 'myope',\n",
    "                        2: 'hypermetrope'}\n",
    "        },\n",
    "    2: {'name': 'astigmatic', \n",
    "        'value_names': {1: 'no', \n",
    "                        2: 'yes'}\n",
    "    },\n",
    "    3: {'name': 'tear rate', \n",
    "        'value_names': {1:'reduced', \n",
    "                        2:'normal'}\n",
    "        },\n",
    "}\n",
    "\n",
    "label_dict = {\n",
    "    1: 'hard',\n",
    "    2: 'soft',\n",
    "    3: 'no_lenses',\n",
    "}\n",
    "\n",
    "dtp = DecisionTreePlotter(dt01.tree_, feature_names = features_dict, label_names=label_dict)\n",
    "dtp.plot()"
   ]
  },
  {
   "cell_type": "code",
   "execution_count": 7,
   "metadata": {},
   "outputs": [
    {
     "name": "stdout",
     "output_type": "stream",
     "text": [
      "[3 2 3 1 3]\n",
      "[3 2 3 1 3]\n",
      "1.0\n"
     ]
    }
   ],
   "source": [
    "# Predict the labels for the first 5 data points\n",
    "predictions = dt01.predict(X[:5])\n",
    "print(predictions)\n",
    "print (y[:5])\n",
    "\n",
    "# Calculate the accuracy of the model\n",
    "accuracy = np.mean(predictions == y[:5])\n",
    "print(accuracy)\n",
    "\n"
   ]
  },
  {
   "cell_type": "code",
   "execution_count": null,
   "metadata": {},
   "outputs": [],
   "source": []
  }
 ],
 "metadata": {
  "kernelspec": {
   "display_name": "torch",
   "language": "python",
   "name": "python3"
  },
  "language_info": {
   "codemirror_mode": {
    "name": "ipython",
    "version": 3
   },
   "file_extension": ".py",
   "mimetype": "text/x-python",
   "name": "python",
   "nbconvert_exporter": "python",
   "pygments_lexer": "ipython3",
   "version": "3.9.20"
  }
 },
 "nbformat": 4,
 "nbformat_minor": 2
}
