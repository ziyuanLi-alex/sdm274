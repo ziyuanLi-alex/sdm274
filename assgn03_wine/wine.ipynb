{
 "cells": [
  {
   "cell_type": "code",
   "execution_count": 36,
   "metadata": {},
   "outputs": [
    {
     "name": "stdout",
     "output_type": "stream",
     "text": [
      "Type\n",
      "1    59\n",
      "2    71\n",
      "dtype: int64\n"
     ]
    }
   ],
   "source": [
    "import pandas as pd\n",
    "import numpy as np\n",
    "from sklearn.model_selection import train_test_split\n",
    "import matplotlib.pyplot as plt\n",
    "\n",
    "\n",
    "df = pd.read_csv('wine.csv', header=None)\n",
    "df.columns = ['Type', 'Alcohol', 'Malic acid', 'Ash', 'Alcalinity of ash',\\\n",
    "     'Magnesium', 'Total phenols', 'Flavanoids', 'Nonflavanoid phenols','Proanthocyanins', 'Color intensity', 'Hue', 'OD280/OD315 of diluted wines', 'Proline']\n",
    "\n",
    "# df.head(5)\n",
    "filtered_df = df[df['Type'] != 3]\n",
    "print(filtered_df.groupby('Type').size())"
   ]
  },
  {
   "cell_type": "markdown",
   "metadata": {},
   "source": [
    "原数据每行是一种酒的数据，以逗号分割，这里将其以csv格式读取之后，整理column类型。\n",
    "之后利用pandas创建一个新的子集，drop掉类型为3的酒，方便后续处理。"
   ]
  },
  {
   "cell_type": "code",
   "execution_count": 37,
   "metadata": {},
   "outputs": [],
   "source": [
    "y = filtered_df.iloc[:,0]\n",
    "X = filtered_df.iloc[:,1:]\n",
    "\n",
    "X_train, X_test, y_train, y_test = train_test_split(X, y, test_size = 0.3, random_state=0)"
   ]
  },
  {
   "cell_type": "markdown",
   "metadata": {},
   "source": [
    "Mission Accomplished: 将数据分为训练集和测试集，测试集大小为0.3，指定随机化种子使得实验可重复"
   ]
  },
  {
   "cell_type": "code",
   "execution_count": 108,
   "metadata": {},
   "outputs": [],
   "source": [
    "class Perceptron():\n",
    "\n",
    "    def __init__(self, n_feature = 13, learning_rate = 1e-3, epochs = 100, tolerance = None, patience = 10):\n",
    "        self.learning_rate = learning_rate\n",
    "        self.epochs = epochs\n",
    "        self.W = np.random.random(n_feature + 1) * 0.5\n",
    "        self.W = np.random.uniform(0.01, 0.01, n_feature + 1)\n",
    "        self.loss = []\n",
    "        self.best_loss = np.inf\n",
    "\n",
    "        self.tol = tolerance\n",
    "        self.patience = patience\n",
    "        \n",
    "    \n",
    "    def _loss(self, y, y_pred):\n",
    "        return - y_pred * y if y_pred * y < 0 else 0\n",
    "\n",
    "    def _gradient(self, x_bar, y, y_pred):\n",
    "        return -y * x_bar if y_pred * y < 0 else 0\n",
    "\n",
    "    def _preprocess_data(self, X):\n",
    "        m, n = X.shape\n",
    "        X_ = np.empty([m, n+1])\n",
    "        X_[:, 0] = 1\n",
    "        X_[:, 1:] = X\n",
    "        return X_\n",
    "\n",
    "    def _map_y(self, y):\n",
    "        mapper = lambda y: -1 if y == 1 else 1\n",
    "        return np.array([mapper(yi) for yi in y])\n",
    "    \n",
    "    def _predict(self, X):\n",
    "        return X @ self.W\n",
    "\n",
    "    def SGD(self, X_train, y):\n",
    "        X_train_bar = self._preprocess_data(X_train)\n",
    "        # breakout = False\n",
    "        y = self._map_y(y)\n",
    "        epoch_no_improve = 0\n",
    "        # self.loss.append(self._loss(y, self._predict(X_train_bar)))\n",
    "\n",
    "        for epoch in range(self.epochs):\n",
    "            shuffle_index = np.random.permutation(X_train_bar.shape[0])\n",
    "            X_train_bar = X_train_bar[shuffle_index]\n",
    "            y = y[shuffle_index]\n",
    "            \n",
    "            for i in range(X_train_bar.shape[0]):\n",
    "                x_bar = X_train_bar[i]\n",
    "                y_pred = self._predict(x_bar)\n",
    "                loss = self._loss(y[i], y_pred)\n",
    "                self.loss.append(loss)\n",
    "\n",
    "                # A simple grad desc without considering earlystopping\n",
    "                grad = self._gradient(x_bar, y[i], y_pred)\n",
    "                self.W -= self.learning_rate * grad\n",
    "\n",
    "                # ----------------------------\n",
    "                #      end of grad desc      \n",
    "                #         one sample\n",
    "                # ----------------------------\n",
    "\n",
    "                # update-based early stopping\n",
    "                if self.tol is not None:\n",
    "                    if loss < self.best_loss - self.tol and loss != 0:\n",
    "                        self.best_loss = loss\n",
    "                        epoch_no_improve = 0\n",
    "                    elif np.abs(loss - self.best_loss) < self.tol:\n",
    "                        epoch_no_improve += 1\n",
    "                        if epoch_no_improve == self.patience:\n",
    "                            print(f'Early stopping at epoch {epoch}')\n",
    "                            return\n",
    "\n",
    "                # Why use another variable called break? Let's first try using return.\n",
    "                \n",
    "\n",
    "    def plot_loss(self):\n",
    "        plt.plot(self.loss)\n",
    "        plt.grid()\n",
    "        plt.show()  "
   ]
  },
  {
   "cell_type": "code",
   "execution_count": 118,
   "metadata": {},
   "outputs": [
    {
     "name": "stdout",
     "output_type": "stream",
     "text": [
      "Early stopping at epoch 17\n"
     ]
    },
    {
     "data": {
      "image/png": "[encoded data removed]",
      "text/plain": [
       "<Figure size 640x480 with 1 Axes>"
      ]
     },
     "metadata": {},
     "output_type": "display_data"
    }
   ],
   "source": [
    "# we need some conversion between numpy and pandas\n",
    "X_train = X_train.to_numpy() if isinstance(X_train, pd.DataFrame) else X_train\n",
    "y_train = y_train.to_numpy() if isinstance(y_train, pd.Series) else y_train\n",
    "\n",
    "model = Perceptron()\n",
    "model.learning_rate = 3e-6\n",
    "model.epochs = 100\n",
    "model.tol = 1e-2\n",
    "model.SGD(X_train, y_train)\n",
    "model.plot_loss()\n"
   ]
  }
 ],
 "metadata": {
  "kernelspec": {
   "display_name": "torch",
   "language": "python",
   "name": "python3"
  },
  "language_info": {
   "codemirror_mode": {
    "name": "ipython",
    "version": 3
   },
   "file_extension": ".py",
   "mimetype": "text/x-python",
   "name": "python",
   "nbconvert_exporter": "python",
   "pygments_lexer": "ipython3",
   "version": "3.9.20"
  }
 },
 "nbformat": 4,
 "nbformat_minor": 2
}
