{
 "cells": [
  {
   "cell_type": "code",
   "execution_count": 30,
   "metadata": {},
   "outputs": [
    {
     "name": "stdout",
     "output_type": "stream",
     "text": [
      "Type\n",
      "1    59\n",
      "2    71\n",
      "dtype: int64\n"
     ]
    }
   ],
   "source": [
    "import pandas as pd\n",
    "import numpy as np\n",
    "from sklearn.model_selection import train_test_split\n",
    "import matplotlib.pyplot as plt\n",
    "\n",
    "\n",
    "df = pd.read_csv('wine.csv', header=None)\n",
    "df.columns = ['Type', 'Alcohol', 'Malic acid', 'Ash', 'Alcalinity of ash',\\\n",
    "     'Magnesium', 'Total phenols', 'Flavanoids', 'Nonflavanoid phenols','Proanthocyanins', 'Color intensity', 'Hue', 'OD280/OD315 of diluted wines', 'Proline']\n",
    "\n",
    "# df.head(5)\n",
    "filtered_df = df[df['Type'] != 3]\n",
    "print(filtered_df.groupby('Type').size())"
   ]
  },
  {
   "cell_type": "markdown",
   "metadata": {},
   "source": [
    "与assgn03相同的数据预处理部分。\n",
    "原数据每行是一种酒的数据，以逗号分割，这里将其以csv格式读取之后，整理column类型。\n",
    "之后利用pandas创建一个新的子集，drop掉类型为3的酒，方便后续处理。"
   ]
  },
  {
   "cell_type": "code",
   "execution_count": 31,
   "metadata": {},
   "outputs": [],
   "source": [
    "y = filtered_df.iloc[:,0]\n",
    "X = filtered_df.iloc[:,1:]\n",
    "\n",
    "X_train, X_test, y_train, y_test = train_test_split(X, y, test_size = 0.3, random_state=3)"
   ]
  },
  {
   "cell_type": "markdown",
   "metadata": {},
   "source": [
    "Mission Accomplished: 将数据分为训练集和测试集，测试集大小为0.3，指定随机化种子使得实验可重复"
   ]
  },
  {
   "cell_type": "code",
   "execution_count": 32,
   "metadata": {},
   "outputs": [],
   "source": [
    "class LogisticRegression():\n",
    "\n",
    "    def __init__(self, n_feature = 13, learning_rate = 1e-5, epochs = 100, tolerance = None, patience = 10):\n",
    "        self.lr = learning_rate\n",
    "        self.epochs = epochs\n",
    "        # self.W = np.random.random(n_feature + 1)\n",
    "        self.W = np.random.uniform(-0.01, 0.01, n_feature + 1)\n",
    "        self.loss = []\n",
    "        self.best_loss = np.inf\n",
    "        self.tol = tolerance\n",
    "        self.patience = patience\n",
    "        \n",
    "    def _linear_tf(self, X):\n",
    "        return X @ self.W\n",
    "    \n",
    "    def _sigmoid(self, z):\n",
    "        out = 1. / (1. + np.exp(-z))\n",
    "        return out\n",
    "\n",
    "    def _map_y(self, y):\n",
    "        mapper = lambda y: 0 if y == 1 else 1\n",
    "        return np.array([mapper(yi) for yi in y])\n",
    "\n",
    "    def _predict_probability(self, X):\n",
    "        z = self._linear_tf(X)\n",
    "        return self._sigmoid(z)\n",
    "\n",
    "    def _cross_entropy_loss(self, y, y_pred):\n",
    "        epsilon = 1e-8\n",
    "        loss = -np.mean(y * np.log(y_pred + epsilon) + (1-y) * np.log(1-y_pred + epsilon))\n",
    "        return loss\n",
    "    \n",
    "    def _gradient(self, X, y, y_pred):\n",
    "        if isinstance(y, np.ndarray):\n",
    "            return -(y - y_pred) @ X / y.size\n",
    "        else:\n",
    "            return -(y - y_pred) * X / y.size\n",
    "\n",
    "    \n",
    "\n",
    "    def _preprocess_data(self, X):\n",
    "        m, n = X.shape\n",
    "        X_ = np.empty([m, n+1])\n",
    "        X_[:, 0] = 1\n",
    "        X_[:, 1:] = X\n",
    "\n",
    "        return X_\n",
    "\n",
    "    def BGD(self, X_train, y):\n",
    "\n",
    "        X_train_bar = self._preprocess_data(X_train)\n",
    "        y = self._map_y(y)\n",
    "        epoch_no_improve = 0\n",
    "\n",
    "        for epoch in range(self.epochs):\n",
    "            shuffle_index = np.random.permutation(X_train_bar.shape[0])\n",
    "            X_train_bar = X_train_bar[shuffle_index]\n",
    "            y = y[shuffle_index]\n",
    "\n",
    "            y_pred = self._predict_probability(X_train_bar)\n",
    "\n",
    "            # why is loss here valid? \n",
    "            # loss generally should be a scalar. In our previous example, the loss was calculated for each data feature, but here in the logistic func, it is different.\n",
    "            loss = self._cross_entropy_loss(y, y_pred)\n",
    "            self.loss.append(loss)\n",
    "\n",
    "            gradient = self._gradient(X_train_bar, y, y_pred)\n",
    "            self.W -= self.lr * gradient\n",
    "\n",
    "            if self.tol is not None:\n",
    "                if scalar_cross_entropy_loss < self.best_loss - self.tol and scalar_cross_entropy_loss != 0:\n",
    "                    # the case where the new loss is good enough\n",
    "                    # i.e. change of loss is bigger than the tolerance\n",
    "                    self.best_loss = scalar_cross_entropy_loss # we update the best loss\n",
    "                    epoch_no_improve = 0\n",
    "                elif np.abs(scalar_cross_entropy_loss - self.best_loss) < self.tol:\n",
    "                    epoch_no_improve += 1\n",
    "                    if epoch_no_improve == self.patience:\n",
    "                        print(f'Early stopping at epoch {epoch}')\n",
    "                        return        \n",
    "\n",
    "\n",
    "    def SGD(self, X_train, y):\n",
    "        X_train_bar = self._preprocess_data(X_train)\n",
    "        y = self._map_y(y)\n",
    "        epoch_no_improve = 0\n",
    "\n",
    "        for epoch in range(self.epochs):\n",
    "            shuffle_index = np.random.permutation(X_train_bar.shape[0])\n",
    "            X_train_bar = X_train_bar[shuffle_index]\n",
    "            y = y[shuffle_index]\n",
    "            # we have this part unchanged\n",
    "            \n",
    "            for i in range(X_train_bar.shape[0]):\n",
    "                x_bar = X_train_bar[i]\n",
    "                y_pred = self._predict_probability(x_bar)\n",
    "                loss = self._cross_entropy_loss(y, y_pred)\n",
    "                self.loss.append(loss)\n",
    "                # x_bar is one sample here\n",
    "                gradient = self._gradient(x_bar, y[i], y_pred)\n",
    "                self.W -= self.lr * gradient\n",
    "\n",
    "                # update-based early stopping\n",
    "                if self.tol is not None:\n",
    "                    if loss < self.best_loss - self.tol and loss != 0:\n",
    "                        self.best_loss = loss\n",
    "                        epoch_no_improve = 0\n",
    "                    elif np.abs(loss - self.best_loss) < self.tol:\n",
    "                        epoch_no_improve += 1\n",
    "                        if epoch_no_improve == self.patience:\n",
    "                            print(f'Early stopping at epoch {epoch}')\n",
    "                            return\n",
    "        \n",
    "\n",
    "    def plot_cross_entropy_loss(self):\n",
    "        plt.plot(self.loss)\n",
    "        plt.grid()\n",
    "        plt.show()\n",
    "    \n",
    "    def predict(self, X):\n",
    "        X = self._preprocess_data(X)\n",
    "        y_pred = self._predict_probability(X)\n",
    "        return np.where(y_pred >= 0.5, 1, 0)\n",
    "    \n",
    "    def batch_cross_entropy_loss(self, y, y_pred):\n",
    "        loss = np.where( y == y_pred, 0, 1)\n",
    "        return loss\n",
    "\n",
    "\n",
    "\n",
    "    "
   ]
  },
  {
   "cell_type": "code",
   "execution_count": 80,
   "metadata": {},
   "outputs": [
    {
     "data": {
      "image/png": "[encoded data removed]",
      "text/plain": [
       "<Figure size 640x480 with 1 Axes>"
      ]
     },
     "metadata": {},
     "output_type": "display_data"
    }
   ],
   "source": [
    "# we need some conversion between numpy and pandas\n",
    "X_train = X_train.to_numpy() if isinstance(X_train, pd.DataFrame) else X_train\n",
    "y_train = y_train.to_numpy() if isinstance(y_train, pd.Series) else y_train\n",
    "\n",
    "\n",
    "# update_based loss calculation\n",
    "model_SGD = LogisticRegression()\n",
    "model_SGD.lr =1e-7\n",
    "model_SGD.epochs = 50\n",
    "model_SGD.tol = 1e-6\n",
    "model_SGD.SGD(X_train, y_train)\n",
    "model_SGD.plot_cross_entropy_loss()\n"
   ]
  },
  {
   "cell_type": "code",
   "execution_count": 81,
   "metadata": {},
   "outputs": [
    {
     "ename": "TypeError",
     "evalue": "'list' object is not callable",
     "output_type": "error",
     "traceback": [
      "\u001b[0;31m---------------------------------------------------------------------------\u001b[0m",
      "\u001b[0;31mTypeError\u001b[0m                                 Traceback (most recent call last)",
      "Cell \u001b[0;32mIn[81], line 9\u001b[0m\n\u001b[1;32m      7\u001b[0m model\u001b[38;5;241m.\u001b[39mepochs \u001b[38;5;241m=\u001b[39m \u001b[38;5;241m100\u001b[39m\n\u001b[1;32m      8\u001b[0m model\u001b[38;5;241m.\u001b[39mtol \u001b[38;5;241m=\u001b[39m \u001b[38;5;241m1e-7\u001b[39m\n\u001b[0;32m----> 9\u001b[0m \u001b[43mmodel\u001b[49m\u001b[38;5;241;43m.\u001b[39;49m\u001b[43mBGD\u001b[49m\u001b[43m(\u001b[49m\u001b[43mX_train\u001b[49m\u001b[43m,\u001b[49m\u001b[43m \u001b[49m\u001b[43my_train\u001b[49m\u001b[43m)\u001b[49m\n\u001b[1;32m     10\u001b[0m model\u001b[38;5;241m.\u001b[39mplot_cross_entropy_loss()\n",
      "Cell \u001b[0;32mIn[32], line 64\u001b[0m, in \u001b[0;36mLogisticRegression.BGD\u001b[0;34m(self, X_train, y)\u001b[0m\n\u001b[1;32m     60\u001b[0m y_pred \u001b[38;5;241m=\u001b[39m \u001b[38;5;28mself\u001b[39m\u001b[38;5;241m.\u001b[39m_predict_probability(X_train_bar)\n\u001b[1;32m     62\u001b[0m \u001b[38;5;66;03m# why is loss here valid? \u001b[39;00m\n\u001b[1;32m     63\u001b[0m \u001b[38;5;66;03m# loss generally should be a scalar. In our previous example, the loss was calculated for each data feature, but here in the logistic func, it is different.\u001b[39;00m\n\u001b[0;32m---> 64\u001b[0m loss \u001b[38;5;241m=\u001b[39m \u001b[38;5;28;43mself\u001b[39;49m\u001b[38;5;241;43m.\u001b[39;49m\u001b[43mloss\u001b[49m\u001b[43m(\u001b[49m\u001b[43my\u001b[49m\u001b[43m,\u001b[49m\u001b[43m \u001b[49m\u001b[43my_pred\u001b[49m\u001b[43m)\u001b[49m\n\u001b[1;32m     65\u001b[0m \u001b[38;5;28mself\u001b[39m\u001b[38;5;241m.\u001b[39mloss\u001b[38;5;241m.\u001b[39mappend(loss)\n\u001b[1;32m     67\u001b[0m gradient \u001b[38;5;241m=\u001b[39m \u001b[38;5;28mself\u001b[39m\u001b[38;5;241m.\u001b[39m_gradient(X_train_bar, y, y_pred)\n",
      "\u001b[0;31mTypeError\u001b[0m: 'list' object is not callable"
     ]
    }
   ],
   "source": [
    "# we need some conversion between numpy and pandas\n",
    "X_train = X_train.to_numpy() if isinstance(X_train, pd.DataFrame) else X_train\n",
    "y_train = y_train.to_numpy() if isinstance(y_train, pd.Series) else y_train\n",
    "\n",
    "model = LogisticRegression()\n",
    "model.lr = 1e-5\n",
    "model.epochs = 100\n",
    "model.tol = 1e-7\n",
    "model.BGD(X_train, y_train)\n",
    "model.plot_cross_entropy_loss()\n"
   ]
  },
  {
   "cell_type": "code",
   "execution_count": 346,
   "metadata": {},
   "outputs": [
    {
     "data": {
      "image/png": "[encoded data removed]",
      "text/plain": [
       "<Figure size 640x480 with 1 Axes>"
      ]
     },
     "metadata": {},
     "output_type": "display_data"
    }
   ],
   "source": [
    "y_test = y_test.to_numpy() if isinstance(y_test, pd.Series) else y_test\n",
    "X_test = X_test.to_numpy() if isinstance(X_test, pd.DataFrame) else X_test\n",
    "mapper = lambda y: 0 if y == 1 else 1\n",
    "y_mapped = np.array([mapper(yi) for yi in y_test])\n",
    "\n",
    "# Predict the test set\n",
    "y_pred = model.predict(X_test)\n",
    "\n",
    "# Plot the results\n",
    "plt.figure()\n",
    "plt.scatter(range(len(y_mapped)), y_mapped, color='blue', label='Actual')\n",
    "plt.scatter(range(len(y_test)), y_pred, color='red', label='Predicted', marker='x')\n",
    "plt.xlabel('Sample Index')\n",
    "plt.ylabel('Type')\n",
    "plt.ylim(-3,3)\n",
    "plt.title('Actual vs Predicted Wine Types')\n",
    "plt.legend()\n",
    "plt.grid(True)\n",
    "plt.show()"
   ]
  },
  {
   "cell_type": "code",
   "execution_count": null,
   "metadata": {},
   "outputs": [],
   "source": []
  },
  {
   "cell_type": "markdown",
   "metadata": {},
   "source": [
    "可以直观看到在测试集上的准确率。接下来使用几个metric来衡量训练结果好坏。"
   ]
  },
  {
   "cell_type": "code",
   "execution_count": 347,
   "metadata": {},
   "outputs": [
    {
     "name": "stdout",
     "output_type": "stream",
     "text": [
      "Accuracy: 0.8205128205128205\n",
      "Recall: 0.7\n",
      "Precision: 0.9333333333333333\n",
      "F1 Score: 0.8\n"
     ]
    }
   ],
   "source": [
    "def calculate_accuracy(y_actual, y_pred):\n",
    "\n",
    "    correct_predictions = 0\n",
    "    total_predictions = len(y_actual) # 其实y_actual和y_pred的长度是一样的\n",
    "\n",
    "    for i in range(total_predictions):\n",
    "        if y_actual[i] == y_pred[i]:\n",
    "            correct_predictions += 1\n",
    "\n",
    "    return correct_predictions / total_predictions\n",
    "\n",
    "def calculate_recall(y_actual, y_pred, positive_label=1):\n",
    "    true_positive = 0\n",
    "    false_negative = 0\n",
    "\n",
    "    for i in range(len(y_actual)):\n",
    "        if y_actual[i] == positive_label:\n",
    "            if y_pred[i] == positive_label:\n",
    "                true_positive += 1\n",
    "            else:\n",
    "                false_negative += 1\n",
    "\n",
    "    recall = true_positive / (true_positive + false_negative)\n",
    "    # tp + fn 为真值的总数\n",
    "    return recall\n",
    "\n",
    "def calculate_precision(y_actual, y_pred, positive_label=1):\n",
    "    true_positive = 0\n",
    "    false_positive = 0\n",
    "\n",
    "    for i in range(len(y_actual)):\n",
    "        if y_pred[i] == positive_label:\n",
    "            if y_actual[i] == positive_label:\n",
    "                true_positive += 1\n",
    "            else:\n",
    "                false_positive += 1\n",
    "\n",
    "    precision = true_positive / (true_positive + false_positive)\n",
    "    # 在预测为正的情况下，有多少是真的正值\n",
    "    # 如果模型过多地判定正值，那么recall会很高，但是precision会很低\n",
    "    # 如果模型过多地判定负值，那么recall会很低，但是在判定为真值的样本里真值往往更多。（过于保守）\n",
    "    \n",
    "    return precision\n",
    "\n",
    "def calculate_f1_score(y_actual, y_pred, positive_label=1):\n",
    "    precision = calculate_precision(y_actual, y_pred, positive_label)\n",
    "    recall = calculate_recall(y_actual, y_pred, positive_label)\n",
    "\n",
    "    f1_score = 2 * precision * recall / (precision + recall)\n",
    "    # 理想值是precision = 1, recall = 1.\n",
    "    # 在两者数量相等的时候，f1_score比较高。\n",
    "    return f1_score\n",
    "\n",
    "\n",
    "accuracy = calculate_accuracy(y_mapped, y_pred)\n",
    "recall = calculate_recall(y_mapped, y_pred)\n",
    "precisio = calculate_precision(y_mapped, y_pred)\n",
    "f1_score = calculate_f1_score(y_mapped, y_pred)\n",
    "\n",
    "print(f'Accuracy: {accuracy}')\n",
    "print(f'Recall: {recall}')\n",
    "print(f'Precision: {precisio}')\n",
    "print(f'F1 Score: {f1_score}')\n"
   ]
  },
  {
   "cell_type": "markdown",
   "metadata": {},
   "source": [
    "总结：以上几个都是重要的衡量metric。\n",
    "\n",
    "accuracy 是正确值的数量\n",
    "recall 是真值的召回数量\n",
    "precision 是正确真值的比例\n",
    "F1 Score 是综合考量recall和precision之后的分数"
   ]
  }
 ],
 "metadata": {
  "kernelspec": {
   "display_name": "torch",
   "language": "python",
   "name": "python3"
  },
  "language_info": {
   "codemirror_mode": {
    "name": "ipython",
    "version": 3
   },
   "file_extension": ".py",
   "mimetype": "text/x-python",
   "name": "python",
   "nbconvert_exporter": "python",
   "pygments_lexer": "ipython3",
   "version": "3.9.20"
  }
 },
 "nbformat": 4,
 "nbformat_minor": 4
}
